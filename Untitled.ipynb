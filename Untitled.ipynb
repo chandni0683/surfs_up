{
 "cells": [
  {
   "cell_type": "code",
   "execution_count": null,
   "id": "ff12e062",
   "metadata": {},
   "outputs": [
    {
     "name": "stdout",
     "output_type": "stream",
     "text": [
      " * Serving Flask app \"__main__\" (lazy loading)\n",
      " * Environment: production\n",
      "\u001b[31m   WARNING: This is a development server. Do not use it in a production deployment.\u001b[0m\n",
      "\u001b[2m   Use a production WSGI server instead.\u001b[0m\n",
      " * Debug mode: off\n"
     ]
    },
    {
     "name": "stderr",
     "output_type": "stream",
     "text": [
      " * Running on http://127.0.0.1:5000/ (Press CTRL+C to quit)\n"
     ]
    }
   ],
   "source": [
    "import datetime as dt\n",
    "import numpy as np\n",
    "import pandas as pd\n",
    "\n",
    "import sqlalchemy\n",
    "from sqlalchemy.ext.automap import automap_base\n",
    "from sqlalchemy.orm import Session\n",
    "from sqlalchemy import create_engine, func\n",
    "\n",
    "from flask import Flask, jsonify\n",
    "\n"
   ]
  },
  {
   "cell_type": "code",
   "execution_count": null,
   "id": "e13780e8",
   "metadata": {},
   "outputs": [],
   "source": [
    "# Database Setup\n",
    "\n",
    "engine = create_engine(\"sqlite:///hawaii.sqlite\")\n",
    "\n",
    "# reflect an existing database into a new model\n",
    "Base = automap_base()\n",
    "#reflect the tables\n",
    "Base.prepare(engine, reflect=True)\n",
    "# Save references to each table\n",
    "Measurement = Base.classes.measurement\n",
    "Station = Base.classes.station\n",
    "\n",
    "# Create our session from python to the DB\n",
    "session = Session(engine)\n"
   ]
  },
  {
   "cell_type": "code",
   "execution_count": null,
   "id": "b507584a",
   "metadata": {},
   "outputs": [],
   "source": [
    "# Flask Setup\n",
    "app = Flask(__name__) \n",
    "\n",
    "@app.route('/')\n",
    "\n",
    "def welcome():\n",
    "    return(\n",
    "    '''\n",
    "    Welcome to the Climate Analysis API!\n",
    "    Available Routes:<br/>\n",
    "    /api/v1.0/precipitation<br/>\n",
    "    /api/v1.0/stations<br/>\n",
    "    /api/v1.0/tobs<br/>\n",
    "    /api/v1.0/temp/start/end<br/>\n",
    "    ''')\n",
    "\n",
    "@app.route(\"/api/v1.0/precipitation\")\n",
    "def precipitation():\n",
    "    \"\"\"Return the precipitation data for the last year\"\"\"\n",
    "    prev_year = dt.date(2017,8,23) - dt.timedelta(days=365)\n",
    "\n",
    "    precipitation = session.query(Measurement.date, Measurement.prcp).\\\n",
    "        filter(Measurement.date >= prev_year).all()\n",
    "\n",
    "    precip = {date: prcp for date, prcp in precipitation}\n",
    "\n",
    "    return jsonify(precip)\n",
    "\n",
    "@app.route(\"/api/v1.0/stations\")\n",
    "def stations():\n",
    "    results = session.query(Station.station).all()\n",
    "\n",
    "    stations = list(np.ravel(results))\n",
    "    \n",
    "    return jsonify(stations=stations) # {stations: []}\n",
    "\n",
    "@app.route(\"/api/v1.0/tobs\")\n",
    "def temp_monthly():\n",
    "    \"\"\" Return the temp observation for previous year \"\"\"\n",
    "    prev_year = dt.date(2017, 8, 23) - dt.timedelta(days=365)\n",
    "\n",
    "    results = session.query(Measurement.tobs).\\\n",
    "        filter(Measurement.station == 'USC00519281').\\\n",
    "        filter(Measurement.date >= prev_year).all()\n",
    "    \n",
    "    # unravel results into ID list and conver to a python list\n",
    "    temps = list(np.ravel(results))\n",
    "\n",
    "    return jsonify(temps=temps)  \n",
    "\n",
    "\n",
    "@app.route(\"/api/v1.0/temp/<start>\")\n",
    "@app.route(\"/api/v1.0/temp/<start>/<end>\")\n",
    "def stats(start=None, end=None):\n",
    "     \t\n",
    "    sel = [func.min(Measurement.tobs), func.avg(Measurement.tobs), func.max(Measurement.tobs)]           \n",
    "    \n",
    "    # calculate TMIN TAVG TMAX with start and stop \n",
    "    if not end: \n",
    "        results = session.query(*sel).\\\n",
    "            filter(Measurement.date >= start).all()\n",
    "        temps = list(np.ravel(results))\n",
    "        return jsonify(temps=temps)\n",
    "    \n",
    "     # calculate TMIN TAVG TMAX with start and stop \n",
    "    results = session.query(*sel).\\\n",
    "        filter(Measurement.date >= start).\\\n",
    "\t    filter(Measurement.date <= end).all()\n",
    "    \n",
    "    temps = list(np.ravel(results))\n",
    "    return jsonify(temps=temps)\n",
    " \n",
    "   \n",
    "if __name__ == '__main__':\n",
    "    app.run()"
   ]
  },
  {
   "cell_type": "code",
   "execution_count": null,
   "id": "e1ad9395",
   "metadata": {},
   "outputs": [],
   "source": []
  }
 ],
 "metadata": {
  "kernelspec": {
   "display_name": "PythonData",
   "language": "python",
   "name": "pythondata"
  },
  "language_info": {
   "codemirror_mode": {
    "name": "ipython",
    "version": 3
   },
   "file_extension": ".py",
   "mimetype": "text/x-python",
   "name": "python",
   "nbconvert_exporter": "python",
   "pygments_lexer": "ipython3",
   "version": "3.8.8"
  }
 },
 "nbformat": 4,
 "nbformat_minor": 5
}
